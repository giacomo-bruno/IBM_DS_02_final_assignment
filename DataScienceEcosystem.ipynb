{
 "cells": [
  {
   "cell_type": "markdown",
   "id": "fb986c94-40bc-4a02-baa4-7d9a0b672e89",
   "metadata": {},
   "source": [
    "<center>\n",
    "    <img src=\"https://cf-courses-data.s3.us.cloud-object-storage.appdomain.cloud/IBMDeveloperSkillsNetwork-DS0105EN-SkillsNetwork/labs/Module2/images/SN_web_lightmode.png\" width=\"300\" alt=\"cognitiveclass.ai logo\">\n",
    "</center>"
   ]
  },
  {
   "cell_type": "markdown",
   "id": "43b5617b-1307-4777-a3bb-dd66203e0e64",
   "metadata": {},
   "source": [
    "# Data Science Tools and Ecosystem"
   ]
  },
  {
   "cell_type": "markdown",
   "id": "67844798-5c6b-46de-98cb-409a2f254910",
   "metadata": {},
   "source": [
    "In this notebook, Data Science Tools and Ecosystem are summarized."
   ]
  },
  {
   "cell_type": "markdown",
   "id": "d7a19b64-96f2-449a-a0d0-fd3cfa37ae4e",
   "metadata": {},
   "source": [
    "**Objectives:**\n",
    "- List popular languages for Data Science\n",
    "- List popular libraries for Data Science\n",
    "- Table of Data Science Tools\n",
    "- Show examples of arithmetic expressions in Python"
   ]
  },
  {
   "cell_type": "markdown",
   "id": "b005afe8-be40-47e0-ad56-193cf68074ce",
   "metadata": {},
   "source": [
    "Some of the popular languages that Data Scientists use are:\n",
    "1. Python\n",
    "2. R\n",
    "3. SQL\n",
    "4. Java\n",
    "5. JavaScript\n",
    "6. Scala\n",
    "7. Julia\n",
    "8. TypeScript\n",
    "9. Swift\n",
    "10. Go"
   ]
  },
  {
   "cell_type": "markdown",
   "id": "093a1cfd-0654-4a6f-9e0b-b0392580890d",
   "metadata": {},
   "source": [
    "Some of the commonly used libraries used by Data Scientists include:\n",
    "1. Matplotlib\n",
    "2. Pandas\n",
    "3. NumPy\n",
    "4. Scikit-learn\n",
    "5. SciPy\n",
    "6. Keras\n",
    "7. Plotly\n",
    "8. Seaborn\n",
    "9. TensorFlow"
   ]
  },
  {
   "cell_type": "markdown",
   "id": "73be0216-05e7-4696-ab68-1726f0a04e61",
   "metadata": {},
   "source": [
    "| Data Science Tools |\n",
    "| ------------------ |\n",
    "| Jupyter            | \n",
    "| Visual Studio Code |\n",
    "| RStudio            |"
   ]
  },
  {
   "cell_type": "markdown",
   "id": "cf369333-10e9-4f4a-86ae-1073a3826682",
   "metadata": {},
   "source": [
    "### Below are a few examples of evaluating arithmetic expressions in Python"
   ]
  },
  {
   "cell_type": "code",
   "execution_count": 4,
   "id": "4e512b9e-83ac-415b-8226-490c4a6eb3a0",
   "metadata": {},
   "outputs": [
    {
     "data": {
      "text/plain": [
       "17"
      ]
     },
     "execution_count": 4,
     "metadata": {},
     "output_type": "execute_result"
    }
   ],
   "source": [
    "# This is a simple  arithmetic expression to multiply then add integers\n",
    "(3*4)+5"
   ]
  },
  {
   "cell_type": "code",
   "execution_count": 5,
   "id": "8cad81ea-4126-41ea-9f69-8dc910f63749",
   "metadata": {},
   "outputs": [
    {
     "data": {
      "text/plain": [
       "3.3333333333333335"
      ]
     },
     "execution_count": 5,
     "metadata": {},
     "output_type": "execute_result"
    }
   ],
   "source": [
    "# This will convert 200 minutes to hours by diving by 60\n",
    "200/60"
   ]
  },
  {
   "cell_type": "markdown",
   "id": "c59ef4b4-6b94-492c-89c9-b1a9d28762e0",
   "metadata": {},
   "source": [
    "## Author\n",
    "Giacomo"
   ]
  }
 ],
 "metadata": {
  "kernelspec": {
   "display_name": "Python 3 (ipykernel)",
   "language": "python",
   "name": "python3"
  },
  "language_info": {
   "codemirror_mode": {
    "name": "ipython",
    "version": 3
   },
   "file_extension": ".py",
   "mimetype": "text/x-python",
   "name": "python",
   "nbconvert_exporter": "python",
   "pygments_lexer": "ipython3",
   "version": "3.9.20"
  }
 },
 "nbformat": 4,
 "nbformat_minor": 5
}
